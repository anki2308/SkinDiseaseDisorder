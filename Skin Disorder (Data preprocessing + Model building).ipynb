{
 "cells": [
  {
   "cell_type": "code",
   "execution_count": 1,
   "id": "fd54466b",
   "metadata": {},
   "outputs": [],
   "source": [
    "import pandas as pd\n",
    "import numpy as np\n",
    "import matplotlib.pyplot as plt\n",
    "\n",
    "%matplotlib inline\n",
    "import seaborn as sns\n",
    "import matplotlib"
   ]
  },
  {
   "cell_type": "code",
   "execution_count": 2,
   "id": "5c6a721e",
   "metadata": {},
   "outputs": [],
   "source": [
    "skin=pd.read_csv(\"dataset_35_dermatology.csv\")"
   ]
  },
  {
   "cell_type": "code",
   "execution_count": 3,
   "id": "a90218a4",
   "metadata": {},
   "outputs": [
    {
     "data": {
      "text/plain": [
       "Index(['erythema', 'scaling', 'definite_borders', 'itching',\n",
       "       'koebner_phenomenon', 'polygonal_papules', 'follicular_papules',\n",
       "       'oral_mucosal_involvement', 'knee_and_elbow_involvement',\n",
       "       'scalp_involvement', 'family_history', 'melanin_incontinence',\n",
       "       'eosinophils_in_the_infiltrate', 'PNL_infiltrate',\n",
       "       'fibrosis_of_the_papillary_dermis', 'exocytosis', 'acanthosis',\n",
       "       'hyperkeratosis', 'parakeratosis', 'clubbing_of_the_rete_ridges',\n",
       "       'elongation_of_the_rete_ridges',\n",
       "       'thinning_of_the_suprapapillary_epidermis', 'spongiform_pustule',\n",
       "       'munro_microabcess', 'focal_hypergranulosis',\n",
       "       'disappearance_of_the_granular_layer',\n",
       "       'vacuolisation_and_damage_of_basal_layer', 'spongiosis',\n",
       "       'saw-tooth_appearance_of_retes', 'follicular_horn_plug',\n",
       "       'perifollicular_parakeratosis', 'inflammatory_monoluclear_inflitrate',\n",
       "       'band-like_infiltrate', 'Age', 'class'],\n",
       "      dtype='object')"
      ]
     },
     "execution_count": 3,
     "metadata": {},
     "output_type": "execute_result"
    }
   ],
   "source": [
    "skin.columns"
   ]
  },
  {
   "cell_type": "markdown",
   "id": "981bc9f3",
   "metadata": {},
   "source": [
    "1 psoriasis 112\n",
    "2 seboreic dermatitis 61\n",
    "3 lichen planus 72\n",
    "4 pityriasis rosea 49\n",
    "5 cronic dermatitis 52\n",
    "6 pityriasis rubra pilaris 20"
   ]
  },
  {
   "cell_type": "markdown",
   "id": "ad45282e",
   "metadata": {},
   "source": [
    "### Outliers Detecting and Treating"
   ]
  },
  {
   "cell_type": "code",
   "execution_count": 4,
   "id": "524b7f32",
   "metadata": {},
   "outputs": [],
   "source": [
    "def outliers(data,col):\n",
    "    out=[]\n",
    "    data[col]=sorted(data[col])\n",
    "    q1=np.percentile(data[col],25)\n",
    "    q3=np.percentile(data[col],75)\n",
    "    iqr=q3-q1\n",
    "    lwr=q1-(1.5*iqr)\n",
    "    upr=q3+(1.5*iqr)\n",
    "    \n",
    "    print(\"Column: \" , col)\n",
    "    print(\"The upper bound is: \",upr)\n",
    "    print(\"The lower bound is: \",lwr)\n",
    "    print(\"-\"*50)\n",
    "    print(\"The Length of Upper Limit is: \",len(data.loc[data[col] > upr]))\n",
    "    print(\"The Length of Lower Limit is: \",len(data.loc[data[col] < lwr]))\n",
    "    print(\"-\"*50)\n",
    "    print(\"Percentage of Outliers for Upper Limit: \",(len(data.loc[data[col] > upr]))/(data[col].shape[0])*100,\"%\")\n",
    "    print(\"Percentage of Outliers for Lower Limit: \",(len(data.loc[data[col] < lwr]))/(data[col].shape[0])*100,\"%\")\n",
    "    print(\"-\"*50)\n",
    "    print(\"The Outliers in the Upper Bound  are: \\n\",(pd.DataFrame(data.loc[data[col] > upr])))\n",
    "    print(\"-\"*50)\n",
    "    print(\"The Outliers in the Lower Bound  are: \\n\",(pd.DataFrame(data.loc[data[col] < lwr])))\n",
    "    print(\"-\"*50)\n",
    "    \n",
    "    for i in data[col]:\n",
    "        if i<lwr or i>upr:\n",
    "            out.append(i)\n",
    "    return out"
   ]
  },
  {
   "cell_type": "code",
   "execution_count": 5,
   "id": "a0d92a51",
   "metadata": {},
   "outputs": [
    {
     "data": {
      "text/plain": [
       "2    215\n",
       "3     90\n",
       "1     57\n",
       "0      4\n",
       "Name: erythema, dtype: int64"
      ]
     },
     "execution_count": 5,
     "metadata": {},
     "output_type": "execute_result"
    }
   ],
   "source": [
    "skin['erythema'].value_counts()"
   ]
  },
  {
   "cell_type": "code",
   "execution_count": 6,
   "id": "1eed2e3b",
   "metadata": {},
   "outputs": [
    {
     "data": {
      "text/plain": [
       "array([2, 3, 1, 0], dtype=int64)"
      ]
     },
     "execution_count": 6,
     "metadata": {},
     "output_type": "execute_result"
    }
   ],
   "source": [
    "skin['erythema'].unique()"
   ]
  },
  {
   "cell_type": "code",
   "execution_count": 7,
   "id": "a29c358b",
   "metadata": {},
   "outputs": [
    {
     "name": "stdout",
     "output_type": "stream",
     "text": [
      "Column:  erythema\n",
      "The upper bound is:  2.0\n",
      "The lower bound is:  2.0\n",
      "--------------------------------------------------\n",
      "The Length of Upper Limit is:  90\n",
      "The Length of Lower Limit is:  61\n",
      "--------------------------------------------------\n",
      "Percentage of Outliers for Upper Limit:  24.59016393442623 %\n",
      "Percentage of Outliers for Lower Limit:  16.666666666666664 %\n",
      "--------------------------------------------------\n",
      "The Outliers in the Upper Bound  are: \n",
      "      erythema  scaling  definite_borders  itching  koebner_phenomenon  \\\n",
      "276         3        2                 2        2                   0   \n",
      "277         3        2                 2        1                   0   \n",
      "278         3        2                 2        1                   0   \n",
      "279         3        2                 1        0                   1   \n",
      "280         3        2                 2        0                   1   \n",
      "..        ...      ...               ...      ...                 ...   \n",
      "361         3        1                 1        0                   1   \n",
      "362         3        2                 1        0                   1   \n",
      "363         3        2                 2        2                   3   \n",
      "364         3        1                 3        1                   2   \n",
      "365         3        2                 2        0                   0   \n",
      "\n",
      "     polygonal_papules  follicular_papules  oral_mucosal_involvement  \\\n",
      "276                  0                   0                         0   \n",
      "277                  0                   0                         0   \n",
      "278                  0                   0                         0   \n",
      "279                  0                   0                         0   \n",
      "280                  0                   0                         0   \n",
      "..                 ...                 ...                       ...   \n",
      "361                  0                   0                         0   \n",
      "362                  0                   0                         0   \n",
      "363                  2                   0                         2   \n",
      "364                  3                   0                         2   \n",
      "365                  0                   0                         0   \n",
      "\n",
      "     knee_and_elbow_involvement  scalp_involvement  ...  \\\n",
      "276                           2                  1  ...   \n",
      "277                           0                  0  ...   \n",
      "278                           1                  0  ...   \n",
      "279                           0                  0  ...   \n",
      "280                           0                  0  ...   \n",
      "..                          ...                ...  ...   \n",
      "361                           0                  0  ...   \n",
      "362                           0                  0  ...   \n",
      "363                           0                  0  ...   \n",
      "364                           0                  0  ...   \n",
      "365                           3                  3  ...   \n",
      "\n",
      "     disappearance_of_the_granular_layer  \\\n",
      "276                                    2   \n",
      "277                                    0   \n",
      "278                                    0   \n",
      "279                                    0   \n",
      "280                                    1   \n",
      "..                                   ...   \n",
      "361                                    0   \n",
      "362                                    1   \n",
      "363                                    0   \n",
      "364                                    0   \n",
      "365                                    2   \n",
      "\n",
      "     vacuolisation_and_damage_of_basal_layer  spongiosis  \\\n",
      "276                                        0           0   \n",
      "277                                        0           3   \n",
      "278                                        0           3   \n",
      "279                                        0           2   \n",
      "280                                        0           2   \n",
      "..                                       ...         ...   \n",
      "361                                        0           1   \n",
      "362                                        0           1   \n",
      "363                                        3           0   \n",
      "364                                        2           0   \n",
      "365                                        0           0   \n",
      "\n",
      "     saw-tooth_appearance_of_retes  follicular_horn_plug  \\\n",
      "276                              0                     0   \n",
      "277                              0                     0   \n",
      "278                              0                     0   \n",
      "279                              0                     0   \n",
      "280                              0                     0   \n",
      "..                             ...                   ...   \n",
      "361                              0                     0   \n",
      "362                              0                     0   \n",
      "363                              3                     0   \n",
      "364                              1                     0   \n",
      "365                              0                     0   \n",
      "\n",
      "     perifollicular_parakeratosis  inflammatory_monoluclear_inflitrate  \\\n",
      "276                             0                                    3   \n",
      "277                             0                                    2   \n",
      "278                             0                                    3   \n",
      "279                             0                                    2   \n",
      "280                             0                                    1   \n",
      "..                            ...                                  ...   \n",
      "361                             0                                    2   \n",
      "362                             0                                    2   \n",
      "363                             0                                    2   \n",
      "364                             0                                    2   \n",
      "365                             0                                    3   \n",
      "\n",
      "     band-like_infiltrate  Age  class  \n",
      "276                     0   18      1  \n",
      "277                     0   25      2  \n",
      "278                     0   16      2  \n",
      "279                     0   50      4  \n",
      "280                     0   55      4  \n",
      "..                    ...  ...    ...  \n",
      "361                     0   25      4  \n",
      "362                     0   36      4  \n",
      "363                     3   28      3  \n",
      "364                     3   50      3  \n",
      "365                     0   35      1  \n",
      "\n",
      "[90 rows x 35 columns]\n",
      "--------------------------------------------------\n",
      "The Outliers in the Lower Bound  are: \n",
      "     erythema  scaling  definite_borders  itching  koebner_phenomenon  \\\n",
      "0          0        2                 0        3                   0   \n",
      "1          0        3                 3        2                   1   \n",
      "2          0        1                 2        3                   1   \n",
      "3          0        2                 2        0                   0   \n",
      "4          1        3                 2        2                   2   \n",
      "..       ...      ...               ...      ...                 ...   \n",
      "56         1        1                 1        2                   0   \n",
      "57         1        1                 1        3                   0   \n",
      "58         1        1                 1        0                   0   \n",
      "59         1        3                 0        3                   0   \n",
      "60         1        2                 1        1                   0   \n",
      "\n",
      "    polygonal_papules  follicular_papules  oral_mucosal_involvement  \\\n",
      "0                   0                   0                         0   \n",
      "1                   0                   0                         0   \n",
      "2                   3                   0                         3   \n",
      "3                   0                   0                         0   \n",
      "4                   2                   0                         2   \n",
      "..                ...                 ...                       ...   \n",
      "56                  0                   0                         0   \n",
      "57                  3                   0                         1   \n",
      "58                  0                   0                         0   \n",
      "59                  0                   0                         0   \n",
      "60                  0                   1                         0   \n",
      "\n",
      "    knee_and_elbow_involvement  scalp_involvement  ...  \\\n",
      "0                            1                  0  ...   \n",
      "1                            1                  1  ...   \n",
      "2                            0                  0  ...   \n",
      "3                            3                  2  ...   \n",
      "4                            0                  0  ...   \n",
      "..                         ...                ...  ...   \n",
      "56                           0                  0  ...   \n",
      "57                           0                  0  ...   \n",
      "58                           0                  0  ...   \n",
      "59                           0                  0  ...   \n",
      "60                           1                  1  ...   \n",
      "\n",
      "    disappearance_of_the_granular_layer  \\\n",
      "0                                     0   \n",
      "1                                     0   \n",
      "2                                     0   \n",
      "3                                     3   \n",
      "4                                     2   \n",
      "..                                  ...   \n",
      "56                                    0   \n",
      "57                                    0   \n",
      "58                                    1   \n",
      "59                                    0   \n",
      "60                                    0   \n",
      "\n",
      "    vacuolisation_and_damage_of_basal_layer  spongiosis  \\\n",
      "0                                         0           3   \n",
      "1                                         0           0   \n",
      "2                                         2           3   \n",
      "3                                         0           0   \n",
      "4                                         3           2   \n",
      "..                                      ...         ...   \n",
      "56                                        0           2   \n",
      "57                                        3           0   \n",
      "58                                        0           1   \n",
      "59                                        0           3   \n",
      "60                                        0           1   \n",
      "\n",
      "    saw-tooth_appearance_of_retes  follicular_horn_plug  \\\n",
      "0                               0                     0   \n",
      "1                               0                     0   \n",
      "2                               2                     0   \n",
      "3                               0                     0   \n",
      "4                               3                     0   \n",
      "..                            ...                   ...   \n",
      "56                              0                     0   \n",
      "57                              1                     0   \n",
      "58                              0                     0   \n",
      "59                              0                     0   \n",
      "60                              0                     1   \n",
      "\n",
      "    perifollicular_parakeratosis  inflammatory_monoluclear_inflitrate  \\\n",
      "0                              0                                    1   \n",
      "1                              0                                    1   \n",
      "2                              0                                    2   \n",
      "3                              0                                    3   \n",
      "4                              0                                    2   \n",
      "..                           ...                                  ...   \n",
      "56                             0                                    2   \n",
      "57                             0                                    2   \n",
      "58                             0                                    1   \n",
      "59                             0                                    2   \n",
      "60                             1                                    1   \n",
      "\n",
      "    band-like_infiltrate  Age  class  \n",
      "0                      0   55      2  \n",
      "1                      0    8      1  \n",
      "2                      3   26      3  \n",
      "3                      0   40      1  \n",
      "4                      3   45      3  \n",
      "..                   ...  ...    ...  \n",
      "56                     0   22      2  \n",
      "57                     2   29      3  \n",
      "58                     0   25      4  \n",
      "59                     0   33      2  \n",
      "60                     0    8      6  \n",
      "\n",
      "[61 rows x 35 columns]\n",
      "--------------------------------------------------\n"
     ]
    },
    {
     "data": {
      "text/plain": [
       "[0,\n",
       " 0,\n",
       " 0,\n",
       " 0,\n",
       " 1,\n",
       " 1,\n",
       " 1,\n",
       " 1,\n",
       " 1,\n",
       " 1,\n",
       " 1,\n",
       " 1,\n",
       " 1,\n",
       " 1,\n",
       " 1,\n",
       " 1,\n",
       " 1,\n",
       " 1,\n",
       " 1,\n",
       " 1,\n",
       " 1,\n",
       " 1,\n",
       " 1,\n",
       " 1,\n",
       " 1,\n",
       " 1,\n",
       " 1,\n",
       " 1,\n",
       " 1,\n",
       " 1,\n",
       " 1,\n",
       " 1,\n",
       " 1,\n",
       " 1,\n",
       " 1,\n",
       " 1,\n",
       " 1,\n",
       " 1,\n",
       " 1,\n",
       " 1,\n",
       " 1,\n",
       " 1,\n",
       " 1,\n",
       " 1,\n",
       " 1,\n",
       " 1,\n",
       " 1,\n",
       " 1,\n",
       " 1,\n",
       " 1,\n",
       " 1,\n",
       " 1,\n",
       " 1,\n",
       " 1,\n",
       " 1,\n",
       " 1,\n",
       " 1,\n",
       " 1,\n",
       " 1,\n",
       " 1,\n",
       " 1,\n",
       " 3,\n",
       " 3,\n",
       " 3,\n",
       " 3,\n",
       " 3,\n",
       " 3,\n",
       " 3,\n",
       " 3,\n",
       " 3,\n",
       " 3,\n",
       " 3,\n",
       " 3,\n",
       " 3,\n",
       " 3,\n",
       " 3,\n",
       " 3,\n",
       " 3,\n",
       " 3,\n",
       " 3,\n",
       " 3,\n",
       " 3,\n",
       " 3,\n",
       " 3,\n",
       " 3,\n",
       " 3,\n",
       " 3,\n",
       " 3,\n",
       " 3,\n",
       " 3,\n",
       " 3,\n",
       " 3,\n",
       " 3,\n",
       " 3,\n",
       " 3,\n",
       " 3,\n",
       " 3,\n",
       " 3,\n",
       " 3,\n",
       " 3,\n",
       " 3,\n",
       " 3,\n",
       " 3,\n",
       " 3,\n",
       " 3,\n",
       " 3,\n",
       " 3,\n",
       " 3,\n",
       " 3,\n",
       " 3,\n",
       " 3,\n",
       " 3,\n",
       " 3,\n",
       " 3,\n",
       " 3,\n",
       " 3,\n",
       " 3,\n",
       " 3,\n",
       " 3,\n",
       " 3,\n",
       " 3,\n",
       " 3,\n",
       " 3,\n",
       " 3,\n",
       " 3,\n",
       " 3,\n",
       " 3,\n",
       " 3,\n",
       " 3,\n",
       " 3,\n",
       " 3,\n",
       " 3,\n",
       " 3,\n",
       " 3,\n",
       " 3,\n",
       " 3,\n",
       " 3,\n",
       " 3,\n",
       " 3,\n",
       " 3,\n",
       " 3,\n",
       " 3,\n",
       " 3,\n",
       " 3,\n",
       " 3,\n",
       " 3,\n",
       " 3,\n",
       " 3,\n",
       " 3,\n",
       " 3,\n",
       " 3]"
      ]
     },
     "execution_count": 7,
     "metadata": {},
     "output_type": "execute_result"
    }
   ],
   "source": [
    "outliers(skin,'erythema')"
   ]
  },
  {
   "cell_type": "code",
   "execution_count": 8,
   "id": "4895a9fd",
   "metadata": {},
   "outputs": [
    {
     "data": {
      "text/plain": [
       "erythema                                    0\n",
       "scaling                                     0\n",
       "definite_borders                            0\n",
       "itching                                     0\n",
       "koebner_phenomenon                          0\n",
       "polygonal_papules                           0\n",
       "follicular_papules                          0\n",
       "oral_mucosal_involvement                    0\n",
       "knee_and_elbow_involvement                  0\n",
       "scalp_involvement                           0\n",
       "family_history                              0\n",
       "melanin_incontinence                        0\n",
       "eosinophils_in_the_infiltrate               0\n",
       "PNL_infiltrate                              0\n",
       "fibrosis_of_the_papillary_dermis            0\n",
       "exocytosis                                  0\n",
       "acanthosis                                  0\n",
       "hyperkeratosis                              0\n",
       "parakeratosis                               0\n",
       "clubbing_of_the_rete_ridges                 0\n",
       "elongation_of_the_rete_ridges               0\n",
       "thinning_of_the_suprapapillary_epidermis    0\n",
       "spongiform_pustule                          0\n",
       "munro_microabcess                           0\n",
       "focal_hypergranulosis                       0\n",
       "disappearance_of_the_granular_layer         0\n",
       "vacuolisation_and_damage_of_basal_layer     0\n",
       "spongiosis                                  0\n",
       "saw-tooth_appearance_of_retes               0\n",
       "follicular_horn_plug                        0\n",
       "perifollicular_parakeratosis                0\n",
       "inflammatory_monoluclear_inflitrate         0\n",
       "band-like_infiltrate                        0\n",
       "Age                                         0\n",
       "class                                       0\n",
       "dtype: int64"
      ]
     },
     "execution_count": 8,
     "metadata": {},
     "output_type": "execute_result"
    }
   ],
   "source": [
    "skin.isnull().sum()"
   ]
  },
  {
   "cell_type": "code",
   "execution_count": 9,
   "id": "b36b4df5",
   "metadata": {},
   "outputs": [
    {
     "name": "stdout",
     "output_type": "stream",
     "text": [
      "<class 'pandas.core.frame.DataFrame'>\n",
      "RangeIndex: 366 entries, 0 to 365\n",
      "Data columns (total 35 columns):\n",
      " #   Column                                    Non-Null Count  Dtype \n",
      "---  ------                                    --------------  ----- \n",
      " 0   erythema                                  366 non-null    int64 \n",
      " 1   scaling                                   366 non-null    int64 \n",
      " 2   definite_borders                          366 non-null    int64 \n",
      " 3   itching                                   366 non-null    int64 \n",
      " 4   koebner_phenomenon                        366 non-null    int64 \n",
      " 5   polygonal_papules                         366 non-null    int64 \n",
      " 6   follicular_papules                        366 non-null    int64 \n",
      " 7   oral_mucosal_involvement                  366 non-null    int64 \n",
      " 8   knee_and_elbow_involvement                366 non-null    int64 \n",
      " 9   scalp_involvement                         366 non-null    int64 \n",
      " 10  family_history                            366 non-null    int64 \n",
      " 11  melanin_incontinence                      366 non-null    int64 \n",
      " 12  eosinophils_in_the_infiltrate             366 non-null    int64 \n",
      " 13  PNL_infiltrate                            366 non-null    int64 \n",
      " 14  fibrosis_of_the_papillary_dermis          366 non-null    int64 \n",
      " 15  exocytosis                                366 non-null    int64 \n",
      " 16  acanthosis                                366 non-null    int64 \n",
      " 17  hyperkeratosis                            366 non-null    int64 \n",
      " 18  parakeratosis                             366 non-null    int64 \n",
      " 19  clubbing_of_the_rete_ridges               366 non-null    int64 \n",
      " 20  elongation_of_the_rete_ridges             366 non-null    int64 \n",
      " 21  thinning_of_the_suprapapillary_epidermis  366 non-null    int64 \n",
      " 22  spongiform_pustule                        366 non-null    int64 \n",
      " 23  munro_microabcess                         366 non-null    int64 \n",
      " 24  focal_hypergranulosis                     366 non-null    int64 \n",
      " 25  disappearance_of_the_granular_layer       366 non-null    int64 \n",
      " 26  vacuolisation_and_damage_of_basal_layer   366 non-null    int64 \n",
      " 27  spongiosis                                366 non-null    int64 \n",
      " 28  saw-tooth_appearance_of_retes             366 non-null    int64 \n",
      " 29  follicular_horn_plug                      366 non-null    int64 \n",
      " 30  perifollicular_parakeratosis              366 non-null    int64 \n",
      " 31  inflammatory_monoluclear_inflitrate       366 non-null    int64 \n",
      " 32  band-like_infiltrate                      366 non-null    int64 \n",
      " 33  Age                                       366 non-null    object\n",
      " 34  class                                     366 non-null    int64 \n",
      "dtypes: int64(34), object(1)\n",
      "memory usage: 100.2+ KB\n"
     ]
    }
   ],
   "source": [
    "skin.info()"
   ]
  },
  {
   "cell_type": "code",
   "execution_count": 10,
   "id": "85122dc8",
   "metadata": {},
   "outputs": [
    {
     "data": {
      "text/plain": [
       "array(['55', '8', '26', '40', '45', '41', '18', '57', '22', '30', '20',\n",
       "       '21', '10', '65', '38', '23', '17', '51', '42', '44', '33', '43',\n",
       "       '50', '34', '?', '15', '46', '62', '35', '48', '12', '52', '60',\n",
       "       '32', '19', '29', '25', '36', '13', '27', '31', '28', '64', '39',\n",
       "       '47', '16', '0', '7', '70', '37', '61', '67', '56', '53', '24',\n",
       "       '58', '49', '63', '68', '9', '75'], dtype=object)"
      ]
     },
     "execution_count": 10,
     "metadata": {},
     "output_type": "execute_result"
    }
   ],
   "source": [
    "skin.Age.unique()"
   ]
  },
  {
   "cell_type": "code",
   "execution_count": 11,
   "id": "7b95d60f",
   "metadata": {},
   "outputs": [
    {
     "data": {
      "text/plain": [
       "False    358\n",
       "True       8\n",
       "Name: Age, dtype: int64"
      ]
     },
     "execution_count": 11,
     "metadata": {},
     "output_type": "execute_result"
    }
   ],
   "source": [
    "(skin[\"Age\"]==\"?\").value_counts()"
   ]
  },
  {
   "cell_type": "code",
   "execution_count": 12,
   "id": "46db5772",
   "metadata": {},
   "outputs": [],
   "source": [
    "skin[\"Age\"].replace(\"?\",np.nan,inplace=True)"
   ]
  },
  {
   "cell_type": "code",
   "execution_count": 13,
   "id": "b1fb7c49",
   "metadata": {},
   "outputs": [],
   "source": [
    "med=skin.Age.median()"
   ]
  },
  {
   "cell_type": "code",
   "execution_count": 14,
   "id": "25f7b98d",
   "metadata": {},
   "outputs": [],
   "source": [
    "skin[\"Age\"]=skin[\"Age\"].fillna(med)"
   ]
  },
  {
   "cell_type": "code",
   "execution_count": 15,
   "id": "d2931fda",
   "metadata": {},
   "outputs": [],
   "source": [
    "skin[\"Age\"]=skin[\"Age\"].astype(\"int64\")"
   ]
  },
  {
   "cell_type": "code",
   "execution_count": 16,
   "id": "069bc322",
   "metadata": {},
   "outputs": [
    {
     "data": {
      "text/html": [
       "<div>\n",
       "<style scoped>\n",
       "    .dataframe tbody tr th:only-of-type {\n",
       "        vertical-align: middle;\n",
       "    }\n",
       "\n",
       "    .dataframe tbody tr th {\n",
       "        vertical-align: top;\n",
       "    }\n",
       "\n",
       "    .dataframe thead th {\n",
       "        text-align: right;\n",
       "    }\n",
       "</style>\n",
       "<table border=\"1\" class=\"dataframe\">\n",
       "  <thead>\n",
       "    <tr style=\"text-align: right;\">\n",
       "      <th></th>\n",
       "      <th>erythema</th>\n",
       "      <th>scaling</th>\n",
       "      <th>definite_borders</th>\n",
       "      <th>itching</th>\n",
       "      <th>koebner_phenomenon</th>\n",
       "      <th>polygonal_papules</th>\n",
       "      <th>follicular_papules</th>\n",
       "      <th>oral_mucosal_involvement</th>\n",
       "      <th>knee_and_elbow_involvement</th>\n",
       "      <th>scalp_involvement</th>\n",
       "      <th>...</th>\n",
       "      <th>disappearance_of_the_granular_layer</th>\n",
       "      <th>vacuolisation_and_damage_of_basal_layer</th>\n",
       "      <th>spongiosis</th>\n",
       "      <th>saw-tooth_appearance_of_retes</th>\n",
       "      <th>follicular_horn_plug</th>\n",
       "      <th>perifollicular_parakeratosis</th>\n",
       "      <th>inflammatory_monoluclear_inflitrate</th>\n",
       "      <th>band-like_infiltrate</th>\n",
       "      <th>Age</th>\n",
       "      <th>class</th>\n",
       "    </tr>\n",
       "  </thead>\n",
       "  <tbody>\n",
       "    <tr>\n",
       "      <th>count</th>\n",
       "      <td>366.000000</td>\n",
       "      <td>366.000000</td>\n",
       "      <td>366.000000</td>\n",
       "      <td>366.000000</td>\n",
       "      <td>366.000000</td>\n",
       "      <td>366.000000</td>\n",
       "      <td>366.000000</td>\n",
       "      <td>366.000000</td>\n",
       "      <td>366.000000</td>\n",
       "      <td>366.000000</td>\n",
       "      <td>...</td>\n",
       "      <td>366.000000</td>\n",
       "      <td>366.000000</td>\n",
       "      <td>366.000000</td>\n",
       "      <td>366.000000</td>\n",
       "      <td>366.000000</td>\n",
       "      <td>366.000000</td>\n",
       "      <td>366.000000</td>\n",
       "      <td>366.000000</td>\n",
       "      <td>366.000000</td>\n",
       "      <td>366.000000</td>\n",
       "    </tr>\n",
       "    <tr>\n",
       "      <th>mean</th>\n",
       "      <td>2.068306</td>\n",
       "      <td>1.795082</td>\n",
       "      <td>1.549180</td>\n",
       "      <td>1.366120</td>\n",
       "      <td>0.633880</td>\n",
       "      <td>0.448087</td>\n",
       "      <td>0.166667</td>\n",
       "      <td>0.377049</td>\n",
       "      <td>0.614754</td>\n",
       "      <td>0.519126</td>\n",
       "      <td>...</td>\n",
       "      <td>0.464481</td>\n",
       "      <td>0.456284</td>\n",
       "      <td>0.953552</td>\n",
       "      <td>0.453552</td>\n",
       "      <td>0.103825</td>\n",
       "      <td>0.114754</td>\n",
       "      <td>1.866120</td>\n",
       "      <td>0.554645</td>\n",
       "      <td>36.267760</td>\n",
       "      <td>2.803279</td>\n",
       "    </tr>\n",
       "    <tr>\n",
       "      <th>std</th>\n",
       "      <td>0.664753</td>\n",
       "      <td>0.701527</td>\n",
       "      <td>0.907525</td>\n",
       "      <td>1.138299</td>\n",
       "      <td>0.908016</td>\n",
       "      <td>0.957327</td>\n",
       "      <td>0.570588</td>\n",
       "      <td>0.834147</td>\n",
       "      <td>0.982979</td>\n",
       "      <td>0.905639</td>\n",
       "      <td>...</td>\n",
       "      <td>0.864899</td>\n",
       "      <td>0.954873</td>\n",
       "      <td>1.130172</td>\n",
       "      <td>0.954744</td>\n",
       "      <td>0.450433</td>\n",
       "      <td>0.488723</td>\n",
       "      <td>0.726108</td>\n",
       "      <td>1.105908</td>\n",
       "      <td>15.156875</td>\n",
       "      <td>1.597803</td>\n",
       "    </tr>\n",
       "    <tr>\n",
       "      <th>min</th>\n",
       "      <td>0.000000</td>\n",
       "      <td>0.000000</td>\n",
       "      <td>0.000000</td>\n",
       "      <td>0.000000</td>\n",
       "      <td>0.000000</td>\n",
       "      <td>0.000000</td>\n",
       "      <td>0.000000</td>\n",
       "      <td>0.000000</td>\n",
       "      <td>0.000000</td>\n",
       "      <td>0.000000</td>\n",
       "      <td>...</td>\n",
       "      <td>0.000000</td>\n",
       "      <td>0.000000</td>\n",
       "      <td>0.000000</td>\n",
       "      <td>0.000000</td>\n",
       "      <td>0.000000</td>\n",
       "      <td>0.000000</td>\n",
       "      <td>0.000000</td>\n",
       "      <td>0.000000</td>\n",
       "      <td>0.000000</td>\n",
       "      <td>1.000000</td>\n",
       "    </tr>\n",
       "    <tr>\n",
       "      <th>25%</th>\n",
       "      <td>2.000000</td>\n",
       "      <td>1.000000</td>\n",
       "      <td>1.000000</td>\n",
       "      <td>0.000000</td>\n",
       "      <td>0.000000</td>\n",
       "      <td>0.000000</td>\n",
       "      <td>0.000000</td>\n",
       "      <td>0.000000</td>\n",
       "      <td>0.000000</td>\n",
       "      <td>0.000000</td>\n",
       "      <td>...</td>\n",
       "      <td>0.000000</td>\n",
       "      <td>0.000000</td>\n",
       "      <td>0.000000</td>\n",
       "      <td>0.000000</td>\n",
       "      <td>0.000000</td>\n",
       "      <td>0.000000</td>\n",
       "      <td>1.000000</td>\n",
       "      <td>0.000000</td>\n",
       "      <td>25.000000</td>\n",
       "      <td>1.000000</td>\n",
       "    </tr>\n",
       "    <tr>\n",
       "      <th>50%</th>\n",
       "      <td>2.000000</td>\n",
       "      <td>2.000000</td>\n",
       "      <td>2.000000</td>\n",
       "      <td>1.000000</td>\n",
       "      <td>0.000000</td>\n",
       "      <td>0.000000</td>\n",
       "      <td>0.000000</td>\n",
       "      <td>0.000000</td>\n",
       "      <td>0.000000</td>\n",
       "      <td>0.000000</td>\n",
       "      <td>...</td>\n",
       "      <td>0.000000</td>\n",
       "      <td>0.000000</td>\n",
       "      <td>0.000000</td>\n",
       "      <td>0.000000</td>\n",
       "      <td>0.000000</td>\n",
       "      <td>0.000000</td>\n",
       "      <td>2.000000</td>\n",
       "      <td>0.000000</td>\n",
       "      <td>35.000000</td>\n",
       "      <td>3.000000</td>\n",
       "    </tr>\n",
       "    <tr>\n",
       "      <th>75%</th>\n",
       "      <td>2.000000</td>\n",
       "      <td>2.000000</td>\n",
       "      <td>2.000000</td>\n",
       "      <td>2.000000</td>\n",
       "      <td>1.000000</td>\n",
       "      <td>0.000000</td>\n",
       "      <td>0.000000</td>\n",
       "      <td>0.000000</td>\n",
       "      <td>1.000000</td>\n",
       "      <td>1.000000</td>\n",
       "      <td>...</td>\n",
       "      <td>1.000000</td>\n",
       "      <td>0.000000</td>\n",
       "      <td>2.000000</td>\n",
       "      <td>0.000000</td>\n",
       "      <td>0.000000</td>\n",
       "      <td>0.000000</td>\n",
       "      <td>2.000000</td>\n",
       "      <td>0.000000</td>\n",
       "      <td>48.000000</td>\n",
       "      <td>4.000000</td>\n",
       "    </tr>\n",
       "    <tr>\n",
       "      <th>max</th>\n",
       "      <td>3.000000</td>\n",
       "      <td>3.000000</td>\n",
       "      <td>3.000000</td>\n",
       "      <td>3.000000</td>\n",
       "      <td>3.000000</td>\n",
       "      <td>3.000000</td>\n",
       "      <td>3.000000</td>\n",
       "      <td>3.000000</td>\n",
       "      <td>3.000000</td>\n",
       "      <td>3.000000</td>\n",
       "      <td>...</td>\n",
       "      <td>3.000000</td>\n",
       "      <td>3.000000</td>\n",
       "      <td>3.000000</td>\n",
       "      <td>3.000000</td>\n",
       "      <td>3.000000</td>\n",
       "      <td>3.000000</td>\n",
       "      <td>3.000000</td>\n",
       "      <td>3.000000</td>\n",
       "      <td>75.000000</td>\n",
       "      <td>6.000000</td>\n",
       "    </tr>\n",
       "  </tbody>\n",
       "</table>\n",
       "<p>8 rows × 35 columns</p>\n",
       "</div>"
      ],
      "text/plain": [
       "         erythema     scaling  definite_borders     itching  \\\n",
       "count  366.000000  366.000000        366.000000  366.000000   \n",
       "mean     2.068306    1.795082          1.549180    1.366120   \n",
       "std      0.664753    0.701527          0.907525    1.138299   \n",
       "min      0.000000    0.000000          0.000000    0.000000   \n",
       "25%      2.000000    1.000000          1.000000    0.000000   \n",
       "50%      2.000000    2.000000          2.000000    1.000000   \n",
       "75%      2.000000    2.000000          2.000000    2.000000   \n",
       "max      3.000000    3.000000          3.000000    3.000000   \n",
       "\n",
       "       koebner_phenomenon  polygonal_papules  follicular_papules  \\\n",
       "count          366.000000         366.000000          366.000000   \n",
       "mean             0.633880           0.448087            0.166667   \n",
       "std              0.908016           0.957327            0.570588   \n",
       "min              0.000000           0.000000            0.000000   \n",
       "25%              0.000000           0.000000            0.000000   \n",
       "50%              0.000000           0.000000            0.000000   \n",
       "75%              1.000000           0.000000            0.000000   \n",
       "max              3.000000           3.000000            3.000000   \n",
       "\n",
       "       oral_mucosal_involvement  knee_and_elbow_involvement  \\\n",
       "count                366.000000                  366.000000   \n",
       "mean                   0.377049                    0.614754   \n",
       "std                    0.834147                    0.982979   \n",
       "min                    0.000000                    0.000000   \n",
       "25%                    0.000000                    0.000000   \n",
       "50%                    0.000000                    0.000000   \n",
       "75%                    0.000000                    1.000000   \n",
       "max                    3.000000                    3.000000   \n",
       "\n",
       "       scalp_involvement  ...  disappearance_of_the_granular_layer  \\\n",
       "count         366.000000  ...                           366.000000   \n",
       "mean            0.519126  ...                             0.464481   \n",
       "std             0.905639  ...                             0.864899   \n",
       "min             0.000000  ...                             0.000000   \n",
       "25%             0.000000  ...                             0.000000   \n",
       "50%             0.000000  ...                             0.000000   \n",
       "75%             1.000000  ...                             1.000000   \n",
       "max             3.000000  ...                             3.000000   \n",
       "\n",
       "       vacuolisation_and_damage_of_basal_layer  spongiosis  \\\n",
       "count                               366.000000  366.000000   \n",
       "mean                                  0.456284    0.953552   \n",
       "std                                   0.954873    1.130172   \n",
       "min                                   0.000000    0.000000   \n",
       "25%                                   0.000000    0.000000   \n",
       "50%                                   0.000000    0.000000   \n",
       "75%                                   0.000000    2.000000   \n",
       "max                                   3.000000    3.000000   \n",
       "\n",
       "       saw-tooth_appearance_of_retes  follicular_horn_plug  \\\n",
       "count                     366.000000            366.000000   \n",
       "mean                        0.453552              0.103825   \n",
       "std                         0.954744              0.450433   \n",
       "min                         0.000000              0.000000   \n",
       "25%                         0.000000              0.000000   \n",
       "50%                         0.000000              0.000000   \n",
       "75%                         0.000000              0.000000   \n",
       "max                         3.000000              3.000000   \n",
       "\n",
       "       perifollicular_parakeratosis  inflammatory_monoluclear_inflitrate  \\\n",
       "count                    366.000000                           366.000000   \n",
       "mean                       0.114754                             1.866120   \n",
       "std                        0.488723                             0.726108   \n",
       "min                        0.000000                             0.000000   \n",
       "25%                        0.000000                             1.000000   \n",
       "50%                        0.000000                             2.000000   \n",
       "75%                        0.000000                             2.000000   \n",
       "max                        3.000000                             3.000000   \n",
       "\n",
       "       band-like_infiltrate         Age       class  \n",
       "count            366.000000  366.000000  366.000000  \n",
       "mean               0.554645   36.267760    2.803279  \n",
       "std                1.105908   15.156875    1.597803  \n",
       "min                0.000000    0.000000    1.000000  \n",
       "25%                0.000000   25.000000    1.000000  \n",
       "50%                0.000000   35.000000    3.000000  \n",
       "75%                0.000000   48.000000    4.000000  \n",
       "max                3.000000   75.000000    6.000000  \n",
       "\n",
       "[8 rows x 35 columns]"
      ]
     },
     "execution_count": 16,
     "metadata": {},
     "output_type": "execute_result"
    }
   ],
   "source": [
    "skin.describe()"
   ]
  },
  {
   "cell_type": "code",
   "execution_count": 17,
   "id": "961c51d7",
   "metadata": {},
   "outputs": [
    {
     "data": {
      "text/html": [
       "<div>\n",
       "<style scoped>\n",
       "    .dataframe tbody tr th:only-of-type {\n",
       "        vertical-align: middle;\n",
       "    }\n",
       "\n",
       "    .dataframe tbody tr th {\n",
       "        vertical-align: top;\n",
       "    }\n",
       "\n",
       "    .dataframe thead th {\n",
       "        text-align: right;\n",
       "    }\n",
       "</style>\n",
       "<table border=\"1\" class=\"dataframe\">\n",
       "  <thead>\n",
       "    <tr style=\"text-align: right;\">\n",
       "      <th></th>\n",
       "      <th>erythema</th>\n",
       "      <th>scaling</th>\n",
       "      <th>definite_borders</th>\n",
       "      <th>itching</th>\n",
       "      <th>koebner_phenomenon</th>\n",
       "      <th>polygonal_papules</th>\n",
       "      <th>follicular_papules</th>\n",
       "      <th>oral_mucosal_involvement</th>\n",
       "      <th>knee_and_elbow_involvement</th>\n",
       "      <th>scalp_involvement</th>\n",
       "      <th>...</th>\n",
       "      <th>disappearance_of_the_granular_layer</th>\n",
       "      <th>vacuolisation_and_damage_of_basal_layer</th>\n",
       "      <th>spongiosis</th>\n",
       "      <th>saw-tooth_appearance_of_retes</th>\n",
       "      <th>follicular_horn_plug</th>\n",
       "      <th>perifollicular_parakeratosis</th>\n",
       "      <th>inflammatory_monoluclear_inflitrate</th>\n",
       "      <th>band-like_infiltrate</th>\n",
       "      <th>Age</th>\n",
       "      <th>class</th>\n",
       "    </tr>\n",
       "  </thead>\n",
       "  <tbody>\n",
       "    <tr>\n",
       "      <th>0</th>\n",
       "      <td>0</td>\n",
       "      <td>2</td>\n",
       "      <td>0</td>\n",
       "      <td>3</td>\n",
       "      <td>0</td>\n",
       "      <td>0</td>\n",
       "      <td>0</td>\n",
       "      <td>0</td>\n",
       "      <td>1</td>\n",
       "      <td>0</td>\n",
       "      <td>...</td>\n",
       "      <td>0</td>\n",
       "      <td>0</td>\n",
       "      <td>3</td>\n",
       "      <td>0</td>\n",
       "      <td>0</td>\n",
       "      <td>0</td>\n",
       "      <td>1</td>\n",
       "      <td>0</td>\n",
       "      <td>55</td>\n",
       "      <td>2</td>\n",
       "    </tr>\n",
       "    <tr>\n",
       "      <th>1</th>\n",
       "      <td>0</td>\n",
       "      <td>3</td>\n",
       "      <td>3</td>\n",
       "      <td>2</td>\n",
       "      <td>1</td>\n",
       "      <td>0</td>\n",
       "      <td>0</td>\n",
       "      <td>0</td>\n",
       "      <td>1</td>\n",
       "      <td>1</td>\n",
       "      <td>...</td>\n",
       "      <td>0</td>\n",
       "      <td>0</td>\n",
       "      <td>0</td>\n",
       "      <td>0</td>\n",
       "      <td>0</td>\n",
       "      <td>0</td>\n",
       "      <td>1</td>\n",
       "      <td>0</td>\n",
       "      <td>8</td>\n",
       "      <td>1</td>\n",
       "    </tr>\n",
       "    <tr>\n",
       "      <th>2</th>\n",
       "      <td>0</td>\n",
       "      <td>1</td>\n",
       "      <td>2</td>\n",
       "      <td>3</td>\n",
       "      <td>1</td>\n",
       "      <td>3</td>\n",
       "      <td>0</td>\n",
       "      <td>3</td>\n",
       "      <td>0</td>\n",
       "      <td>0</td>\n",
       "      <td>...</td>\n",
       "      <td>0</td>\n",
       "      <td>2</td>\n",
       "      <td>3</td>\n",
       "      <td>2</td>\n",
       "      <td>0</td>\n",
       "      <td>0</td>\n",
       "      <td>2</td>\n",
       "      <td>3</td>\n",
       "      <td>26</td>\n",
       "      <td>3</td>\n",
       "    </tr>\n",
       "    <tr>\n",
       "      <th>3</th>\n",
       "      <td>0</td>\n",
       "      <td>2</td>\n",
       "      <td>2</td>\n",
       "      <td>0</td>\n",
       "      <td>0</td>\n",
       "      <td>0</td>\n",
       "      <td>0</td>\n",
       "      <td>0</td>\n",
       "      <td>3</td>\n",
       "      <td>2</td>\n",
       "      <td>...</td>\n",
       "      <td>3</td>\n",
       "      <td>0</td>\n",
       "      <td>0</td>\n",
       "      <td>0</td>\n",
       "      <td>0</td>\n",
       "      <td>0</td>\n",
       "      <td>3</td>\n",
       "      <td>0</td>\n",
       "      <td>40</td>\n",
       "      <td>1</td>\n",
       "    </tr>\n",
       "    <tr>\n",
       "      <th>4</th>\n",
       "      <td>1</td>\n",
       "      <td>3</td>\n",
       "      <td>2</td>\n",
       "      <td>2</td>\n",
       "      <td>2</td>\n",
       "      <td>2</td>\n",
       "      <td>0</td>\n",
       "      <td>2</td>\n",
       "      <td>0</td>\n",
       "      <td>0</td>\n",
       "      <td>...</td>\n",
       "      <td>2</td>\n",
       "      <td>3</td>\n",
       "      <td>2</td>\n",
       "      <td>3</td>\n",
       "      <td>0</td>\n",
       "      <td>0</td>\n",
       "      <td>2</td>\n",
       "      <td>3</td>\n",
       "      <td>45</td>\n",
       "      <td>3</td>\n",
       "    </tr>\n",
       "  </tbody>\n",
       "</table>\n",
       "<p>5 rows × 35 columns</p>\n",
       "</div>"
      ],
      "text/plain": [
       "   erythema  scaling  definite_borders  itching  koebner_phenomenon  \\\n",
       "0         0        2                 0        3                   0   \n",
       "1         0        3                 3        2                   1   \n",
       "2         0        1                 2        3                   1   \n",
       "3         0        2                 2        0                   0   \n",
       "4         1        3                 2        2                   2   \n",
       "\n",
       "   polygonal_papules  follicular_papules  oral_mucosal_involvement  \\\n",
       "0                  0                   0                         0   \n",
       "1                  0                   0                         0   \n",
       "2                  3                   0                         3   \n",
       "3                  0                   0                         0   \n",
       "4                  2                   0                         2   \n",
       "\n",
       "   knee_and_elbow_involvement  scalp_involvement  ...  \\\n",
       "0                           1                  0  ...   \n",
       "1                           1                  1  ...   \n",
       "2                           0                  0  ...   \n",
       "3                           3                  2  ...   \n",
       "4                           0                  0  ...   \n",
       "\n",
       "   disappearance_of_the_granular_layer  \\\n",
       "0                                    0   \n",
       "1                                    0   \n",
       "2                                    0   \n",
       "3                                    3   \n",
       "4                                    2   \n",
       "\n",
       "   vacuolisation_and_damage_of_basal_layer  spongiosis  \\\n",
       "0                                        0           3   \n",
       "1                                        0           0   \n",
       "2                                        2           3   \n",
       "3                                        0           0   \n",
       "4                                        3           2   \n",
       "\n",
       "   saw-tooth_appearance_of_retes  follicular_horn_plug  \\\n",
       "0                              0                     0   \n",
       "1                              0                     0   \n",
       "2                              2                     0   \n",
       "3                              0                     0   \n",
       "4                              3                     0   \n",
       "\n",
       "   perifollicular_parakeratosis  inflammatory_monoluclear_inflitrate  \\\n",
       "0                             0                                    1   \n",
       "1                             0                                    1   \n",
       "2                             0                                    2   \n",
       "3                             0                                    3   \n",
       "4                             0                                    2   \n",
       "\n",
       "   band-like_infiltrate  Age  class  \n",
       "0                     0   55      2  \n",
       "1                     0    8      1  \n",
       "2                     3   26      3  \n",
       "3                     0   40      1  \n",
       "4                     3   45      3  \n",
       "\n",
       "[5 rows x 35 columns]"
      ]
     },
     "execution_count": 17,
     "metadata": {},
     "output_type": "execute_result"
    }
   ],
   "source": [
    "skin.head()\n"
   ]
  },
  {
   "cell_type": "code",
   "execution_count": 18,
   "id": "4011e0a0",
   "metadata": {},
   "outputs": [],
   "source": [
    "X=skin.drop([\"class\"],axis=1)\n",
    "y=skin[\"class\"]"
   ]
  },
  {
   "cell_type": "code",
   "execution_count": 19,
   "id": "8c5b2412",
   "metadata": {},
   "outputs": [],
   "source": [
    "from sklearn.model_selection import train_test_split"
   ]
  },
  {
   "cell_type": "code",
   "execution_count": 20,
   "id": "4c5ec500",
   "metadata": {},
   "outputs": [],
   "source": [
    "X_train,X_test,y_train,y_test=train_test_split(X,y,test_size=0.20,random_state=0)"
   ]
  },
  {
   "cell_type": "code",
   "execution_count": 21,
   "id": "a408fb1a",
   "metadata": {},
   "outputs": [
    {
     "data": {
      "text/plain": [
       "((292, 34), (292,))"
      ]
     },
     "execution_count": 21,
     "metadata": {},
     "output_type": "execute_result"
    }
   ],
   "source": [
    "X_train.shape,y_train.shape"
   ]
  },
  {
   "cell_type": "code",
   "execution_count": 22,
   "id": "3ef5eaef",
   "metadata": {},
   "outputs": [
    {
     "data": {
      "text/plain": [
       "((74, 34), (74,))"
      ]
     },
     "execution_count": 22,
     "metadata": {},
     "output_type": "execute_result"
    }
   ],
   "source": [
    "X_test.shape,y_test.shape"
   ]
  },
  {
   "cell_type": "code",
   "execution_count": 23,
   "id": "4e7fdd2c",
   "metadata": {},
   "outputs": [],
   "source": [
    "from sklearn.preprocessing import StandardScaler"
   ]
  },
  {
   "cell_type": "code",
   "execution_count": 24,
   "id": "abd619c5",
   "metadata": {},
   "outputs": [],
   "source": [
    "sc=StandardScaler()"
   ]
  },
  {
   "cell_type": "code",
   "execution_count": 25,
   "id": "a215c297",
   "metadata": {},
   "outputs": [],
   "source": [
    "X_train=sc.fit_transform(X_train)\n",
    "X_test=sc.transform(X_test)"
   ]
  },
  {
   "cell_type": "code",
   "execution_count": 26,
   "id": "ec386fe5",
   "metadata": {},
   "outputs": [],
   "source": [
    "X_train=pd.DataFrame(X_train)\n",
    "X_test=pd.DataFrame(X_test)"
   ]
  },
  {
   "cell_type": "code",
   "execution_count": 27,
   "id": "aa7054fa",
   "metadata": {},
   "outputs": [
    {
     "data": {
      "text/html": [
       "<div>\n",
       "<style scoped>\n",
       "    .dataframe tbody tr th:only-of-type {\n",
       "        vertical-align: middle;\n",
       "    }\n",
       "\n",
       "    .dataframe tbody tr th {\n",
       "        vertical-align: top;\n",
       "    }\n",
       "\n",
       "    .dataframe thead th {\n",
       "        text-align: right;\n",
       "    }\n",
       "</style>\n",
       "<table border=\"1\" class=\"dataframe\">\n",
       "  <thead>\n",
       "    <tr style=\"text-align: right;\">\n",
       "      <th></th>\n",
       "      <th>0</th>\n",
       "      <th>1</th>\n",
       "      <th>2</th>\n",
       "      <th>3</th>\n",
       "      <th>4</th>\n",
       "      <th>5</th>\n",
       "      <th>6</th>\n",
       "      <th>7</th>\n",
       "      <th>8</th>\n",
       "      <th>9</th>\n",
       "      <th>...</th>\n",
       "      <th>24</th>\n",
       "      <th>25</th>\n",
       "      <th>26</th>\n",
       "      <th>27</th>\n",
       "      <th>28</th>\n",
       "      <th>29</th>\n",
       "      <th>30</th>\n",
       "      <th>31</th>\n",
       "      <th>32</th>\n",
       "      <th>33</th>\n",
       "    </tr>\n",
       "  </thead>\n",
       "  <tbody>\n",
       "    <tr>\n",
       "      <th>0</th>\n",
       "      <td>-0.126926</td>\n",
       "      <td>1.702723</td>\n",
       "      <td>0.485657</td>\n",
       "      <td>-0.320464</td>\n",
       "      <td>0.418600</td>\n",
       "      <td>-0.462915</td>\n",
       "      <td>-0.274868</td>\n",
       "      <td>-0.448236</td>\n",
       "      <td>1.320592</td>\n",
       "      <td>1.607887</td>\n",
       "      <td>...</td>\n",
       "      <td>-0.456585</td>\n",
       "      <td>-0.563574</td>\n",
       "      <td>-0.469825</td>\n",
       "      <td>-0.786638</td>\n",
       "      <td>-0.468265</td>\n",
       "      <td>-0.200227</td>\n",
       "      <td>-0.203898</td>\n",
       "      <td>-1.179088</td>\n",
       "      <td>-0.498832</td>\n",
       "      <td>0.350253</td>\n",
       "    </tr>\n",
       "    <tr>\n",
       "      <th>1</th>\n",
       "      <td>-0.126926</td>\n",
       "      <td>0.278095</td>\n",
       "      <td>0.485657</td>\n",
       "      <td>1.428611</td>\n",
       "      <td>-0.682582</td>\n",
       "      <td>-0.462915</td>\n",
       "      <td>-0.274868</td>\n",
       "      <td>-0.448236</td>\n",
       "      <td>1.320592</td>\n",
       "      <td>1.607887</td>\n",
       "      <td>...</td>\n",
       "      <td>-0.456585</td>\n",
       "      <td>1.675387</td>\n",
       "      <td>-0.469825</td>\n",
       "      <td>-0.786638</td>\n",
       "      <td>-0.468265</td>\n",
       "      <td>-0.200227</td>\n",
       "      <td>-0.203898</td>\n",
       "      <td>-1.179088</td>\n",
       "      <td>-0.498832</td>\n",
       "      <td>-0.775820</td>\n",
       "    </tr>\n",
       "    <tr>\n",
       "      <th>2</th>\n",
       "      <td>1.355574</td>\n",
       "      <td>-1.146532</td>\n",
       "      <td>-0.622249</td>\n",
       "      <td>-1.195002</td>\n",
       "      <td>0.418600</td>\n",
       "      <td>-0.462915</td>\n",
       "      <td>-0.274868</td>\n",
       "      <td>-0.448236</td>\n",
       "      <td>-0.646820</td>\n",
       "      <td>-0.586052</td>\n",
       "      <td>...</td>\n",
       "      <td>-0.456585</td>\n",
       "      <td>0.555907</td>\n",
       "      <td>-0.469825</td>\n",
       "      <td>1.926334</td>\n",
       "      <td>-0.468265</td>\n",
       "      <td>-0.200227</td>\n",
       "      <td>-0.203898</td>\n",
       "      <td>0.198087</td>\n",
       "      <td>-0.498832</td>\n",
       "      <td>-0.974539</td>\n",
       "    </tr>\n",
       "    <tr>\n",
       "      <th>3</th>\n",
       "      <td>1.355574</td>\n",
       "      <td>0.278095</td>\n",
       "      <td>0.485657</td>\n",
       "      <td>-1.195002</td>\n",
       "      <td>0.418600</td>\n",
       "      <td>-0.462915</td>\n",
       "      <td>-0.274868</td>\n",
       "      <td>-0.448236</td>\n",
       "      <td>1.320592</td>\n",
       "      <td>1.607887</td>\n",
       "      <td>...</td>\n",
       "      <td>-0.456585</td>\n",
       "      <td>1.675387</td>\n",
       "      <td>-0.469825</td>\n",
       "      <td>-0.786638</td>\n",
       "      <td>-0.468265</td>\n",
       "      <td>-0.200227</td>\n",
       "      <td>-0.203898</td>\n",
       "      <td>0.198087</td>\n",
       "      <td>-0.498832</td>\n",
       "      <td>0.681452</td>\n",
       "    </tr>\n",
       "    <tr>\n",
       "      <th>4</th>\n",
       "      <td>-0.126926</td>\n",
       "      <td>1.702723</td>\n",
       "      <td>1.593564</td>\n",
       "      <td>-1.195002</td>\n",
       "      <td>-0.682582</td>\n",
       "      <td>-0.462915</td>\n",
       "      <td>-0.274868</td>\n",
       "      <td>-0.448236</td>\n",
       "      <td>1.320592</td>\n",
       "      <td>2.704856</td>\n",
       "      <td>...</td>\n",
       "      <td>-0.456585</td>\n",
       "      <td>2.794868</td>\n",
       "      <td>-0.469825</td>\n",
       "      <td>-0.786638</td>\n",
       "      <td>-0.468265</td>\n",
       "      <td>-0.200227</td>\n",
       "      <td>-0.203898</td>\n",
       "      <td>1.575261</td>\n",
       "      <td>-0.498832</td>\n",
       "      <td>-0.643341</td>\n",
       "    </tr>\n",
       "    <tr>\n",
       "      <th>...</th>\n",
       "      <td>...</td>\n",
       "      <td>...</td>\n",
       "      <td>...</td>\n",
       "      <td>...</td>\n",
       "      <td>...</td>\n",
       "      <td>...</td>\n",
       "      <td>...</td>\n",
       "      <td>...</td>\n",
       "      <td>...</td>\n",
       "      <td>...</td>\n",
       "      <td>...</td>\n",
       "      <td>...</td>\n",
       "      <td>...</td>\n",
       "      <td>...</td>\n",
       "      <td>...</td>\n",
       "      <td>...</td>\n",
       "      <td>...</td>\n",
       "      <td>...</td>\n",
       "      <td>...</td>\n",
       "      <td>...</td>\n",
       "      <td>...</td>\n",
       "    </tr>\n",
       "    <tr>\n",
       "      <th>287</th>\n",
       "      <td>1.355574</td>\n",
       "      <td>1.702723</td>\n",
       "      <td>1.593564</td>\n",
       "      <td>-1.195002</td>\n",
       "      <td>-0.682582</td>\n",
       "      <td>-0.462915</td>\n",
       "      <td>-0.274868</td>\n",
       "      <td>-0.448236</td>\n",
       "      <td>0.336886</td>\n",
       "      <td>-0.586052</td>\n",
       "      <td>...</td>\n",
       "      <td>-0.456585</td>\n",
       "      <td>0.555907</td>\n",
       "      <td>-0.469825</td>\n",
       "      <td>-0.786638</td>\n",
       "      <td>-0.468265</td>\n",
       "      <td>-0.200227</td>\n",
       "      <td>-0.203898</td>\n",
       "      <td>0.198087</td>\n",
       "      <td>-0.498832</td>\n",
       "      <td>1.675046</td>\n",
       "    </tr>\n",
       "    <tr>\n",
       "      <th>288</th>\n",
       "      <td>-0.126926</td>\n",
       "      <td>0.278095</td>\n",
       "      <td>0.485657</td>\n",
       "      <td>0.554074</td>\n",
       "      <td>-0.682582</td>\n",
       "      <td>1.665766</td>\n",
       "      <td>-0.274868</td>\n",
       "      <td>-0.448236</td>\n",
       "      <td>-0.646820</td>\n",
       "      <td>-0.586052</td>\n",
       "      <td>...</td>\n",
       "      <td>1.882411</td>\n",
       "      <td>-0.563574</td>\n",
       "      <td>2.648106</td>\n",
       "      <td>-0.786638</td>\n",
       "      <td>1.668193</td>\n",
       "      <td>-0.200227</td>\n",
       "      <td>-0.203898</td>\n",
       "      <td>1.575261</td>\n",
       "      <td>2.232274</td>\n",
       "      <td>-0.775820</td>\n",
       "    </tr>\n",
       "    <tr>\n",
       "      <th>289</th>\n",
       "      <td>-0.126926</td>\n",
       "      <td>0.278095</td>\n",
       "      <td>1.593564</td>\n",
       "      <td>0.554074</td>\n",
       "      <td>1.519781</td>\n",
       "      <td>1.665766</td>\n",
       "      <td>-0.274868</td>\n",
       "      <td>3.256054</td>\n",
       "      <td>-0.646820</td>\n",
       "      <td>-0.586052</td>\n",
       "      <td>...</td>\n",
       "      <td>1.882411</td>\n",
       "      <td>-0.563574</td>\n",
       "      <td>2.648106</td>\n",
       "      <td>1.926334</td>\n",
       "      <td>1.668193</td>\n",
       "      <td>-0.200227</td>\n",
       "      <td>-0.203898</td>\n",
       "      <td>0.198087</td>\n",
       "      <td>1.321905</td>\n",
       "      <td>1.012650</td>\n",
       "    </tr>\n",
       "    <tr>\n",
       "      <th>290</th>\n",
       "      <td>-1.609427</td>\n",
       "      <td>-1.146532</td>\n",
       "      <td>-0.622249</td>\n",
       "      <td>-0.320464</td>\n",
       "      <td>-0.682582</td>\n",
       "      <td>-0.462915</td>\n",
       "      <td>3.547108</td>\n",
       "      <td>-0.448236</td>\n",
       "      <td>2.304298</td>\n",
       "      <td>1.607887</td>\n",
       "      <td>...</td>\n",
       "      <td>-0.456585</td>\n",
       "      <td>-0.563574</td>\n",
       "      <td>-0.469825</td>\n",
       "      <td>-0.786638</td>\n",
       "      <td>-0.468265</td>\n",
       "      <td>-0.200227</td>\n",
       "      <td>2.086034</td>\n",
       "      <td>-1.179088</td>\n",
       "      <td>0.411537</td>\n",
       "      <td>-1.636936</td>\n",
       "    </tr>\n",
       "    <tr>\n",
       "      <th>291</th>\n",
       "      <td>-0.126926</td>\n",
       "      <td>0.278095</td>\n",
       "      <td>1.593564</td>\n",
       "      <td>-1.195002</td>\n",
       "      <td>-0.682582</td>\n",
       "      <td>-0.462915</td>\n",
       "      <td>-0.274868</td>\n",
       "      <td>-0.448236</td>\n",
       "      <td>2.304298</td>\n",
       "      <td>-0.586052</td>\n",
       "      <td>...</td>\n",
       "      <td>-0.456585</td>\n",
       "      <td>2.794868</td>\n",
       "      <td>-0.469825</td>\n",
       "      <td>-0.786638</td>\n",
       "      <td>-0.468265</td>\n",
       "      <td>-0.200227</td>\n",
       "      <td>-0.203898</td>\n",
       "      <td>-1.179088</td>\n",
       "      <td>-0.498832</td>\n",
       "      <td>1.277608</td>\n",
       "    </tr>\n",
       "  </tbody>\n",
       "</table>\n",
       "<p>292 rows × 34 columns</p>\n",
       "</div>"
      ],
      "text/plain": [
       "           0         1         2         3         4         5         6   \\\n",
       "0   -0.126926  1.702723  0.485657 -0.320464  0.418600 -0.462915 -0.274868   \n",
       "1   -0.126926  0.278095  0.485657  1.428611 -0.682582 -0.462915 -0.274868   \n",
       "2    1.355574 -1.146532 -0.622249 -1.195002  0.418600 -0.462915 -0.274868   \n",
       "3    1.355574  0.278095  0.485657 -1.195002  0.418600 -0.462915 -0.274868   \n",
       "4   -0.126926  1.702723  1.593564 -1.195002 -0.682582 -0.462915 -0.274868   \n",
       "..        ...       ...       ...       ...       ...       ...       ...   \n",
       "287  1.355574  1.702723  1.593564 -1.195002 -0.682582 -0.462915 -0.274868   \n",
       "288 -0.126926  0.278095  0.485657  0.554074 -0.682582  1.665766 -0.274868   \n",
       "289 -0.126926  0.278095  1.593564  0.554074  1.519781  1.665766 -0.274868   \n",
       "290 -1.609427 -1.146532 -0.622249 -0.320464 -0.682582 -0.462915  3.547108   \n",
       "291 -0.126926  0.278095  1.593564 -1.195002 -0.682582 -0.462915 -0.274868   \n",
       "\n",
       "           7         8         9   ...        24        25        26  \\\n",
       "0   -0.448236  1.320592  1.607887  ... -0.456585 -0.563574 -0.469825   \n",
       "1   -0.448236  1.320592  1.607887  ... -0.456585  1.675387 -0.469825   \n",
       "2   -0.448236 -0.646820 -0.586052  ... -0.456585  0.555907 -0.469825   \n",
       "3   -0.448236  1.320592  1.607887  ... -0.456585  1.675387 -0.469825   \n",
       "4   -0.448236  1.320592  2.704856  ... -0.456585  2.794868 -0.469825   \n",
       "..        ...       ...       ...  ...       ...       ...       ...   \n",
       "287 -0.448236  0.336886 -0.586052  ... -0.456585  0.555907 -0.469825   \n",
       "288 -0.448236 -0.646820 -0.586052  ...  1.882411 -0.563574  2.648106   \n",
       "289  3.256054 -0.646820 -0.586052  ...  1.882411 -0.563574  2.648106   \n",
       "290 -0.448236  2.304298  1.607887  ... -0.456585 -0.563574 -0.469825   \n",
       "291 -0.448236  2.304298 -0.586052  ... -0.456585  2.794868 -0.469825   \n",
       "\n",
       "           27        28        29        30        31        32        33  \n",
       "0   -0.786638 -0.468265 -0.200227 -0.203898 -1.179088 -0.498832  0.350253  \n",
       "1   -0.786638 -0.468265 -0.200227 -0.203898 -1.179088 -0.498832 -0.775820  \n",
       "2    1.926334 -0.468265 -0.200227 -0.203898  0.198087 -0.498832 -0.974539  \n",
       "3   -0.786638 -0.468265 -0.200227 -0.203898  0.198087 -0.498832  0.681452  \n",
       "4   -0.786638 -0.468265 -0.200227 -0.203898  1.575261 -0.498832 -0.643341  \n",
       "..        ...       ...       ...       ...       ...       ...       ...  \n",
       "287 -0.786638 -0.468265 -0.200227 -0.203898  0.198087 -0.498832  1.675046  \n",
       "288 -0.786638  1.668193 -0.200227 -0.203898  1.575261  2.232274 -0.775820  \n",
       "289  1.926334  1.668193 -0.200227 -0.203898  0.198087  1.321905  1.012650  \n",
       "290 -0.786638 -0.468265 -0.200227  2.086034 -1.179088  0.411537 -1.636936  \n",
       "291 -0.786638 -0.468265 -0.200227 -0.203898 -1.179088 -0.498832  1.277608  \n",
       "\n",
       "[292 rows x 34 columns]"
      ]
     },
     "execution_count": 27,
     "metadata": {},
     "output_type": "execute_result"
    }
   ],
   "source": [
    "X_train"
   ]
  },
  {
   "cell_type": "code",
   "execution_count": 28,
   "id": "ccb544c9",
   "metadata": {},
   "outputs": [
    {
     "data": {
      "text/plain": [
       "ExtraTreesClassifier()"
      ]
     },
     "execution_count": 28,
     "metadata": {},
     "output_type": "execute_result"
    }
   ],
   "source": [
    "from sklearn.ensemble import ExtraTreesClassifier\n",
    "import matplotlib.pyplot as plt\n",
    "egc = ExtraTreesClassifier()\n",
    "egc.fit(X_train,y_train)"
   ]
  },
  {
   "cell_type": "code",
   "execution_count": 29,
   "id": "eeee58f0",
   "metadata": {},
   "outputs": [
    {
     "data": {
      "image/png": "[encoded data removed]",
      "text/plain": [
       "<Figure size 432x288 with 1 Axes>"
      ]
     },
     "metadata": {
      "needs_background": "light"
     },
     "output_type": "display_data"
    }
   ],
   "source": [
    "#plot graph of feature importances for better visualization\n",
    "feat_importances = pd.Series(egc.feature_importances_, index=X.columns)\n",
    "feat_importances.nlargest(25).plot(kind='barh')\n",
    "plt.show()"
   ]
  },
  {
   "cell_type": "code",
   "execution_count": 30,
   "id": "205882f4",
   "metadata": {},
   "outputs": [
    {
     "data": {
      "text/plain": [
       "<AxesSubplot:xlabel='class', ylabel='count'>"
      ]
     },
     "execution_count": 30,
     "metadata": {},
     "output_type": "execute_result"
    },
    {
     "data": {
      "image/png": "[encoded data removed]",
      "text/plain": [
       "<Figure size 432x288 with 1 Axes>"
      ]
     },
     "metadata": {
      "needs_background": "light"
     },
     "output_type": "display_data"
    }
   ],
   "source": [
    "sns.countplot(x=skin[\"class\"])"
   ]
  },
  {
   "cell_type": "markdown",
   "id": "1a7f77c4",
   "metadata": {},
   "source": [
    "### Model Building"
   ]
  },
  {
   "cell_type": "code",
   "execution_count": 31,
   "id": "00d06ff5",
   "metadata": {},
   "outputs": [],
   "source": [
    "from sklearn.metrics import accuracy_score, confusion_matrix, roc_curve, roc_auc_score,precision_score,recall_score,f1_score,classification_report"
   ]
  },
  {
   "cell_type": "markdown",
   "id": "60fdce72",
   "metadata": {},
   "source": [
    "### Random Forest"
   ]
  },
  {
   "cell_type": "code",
   "execution_count": 32,
   "id": "ee546eea",
   "metadata": {},
   "outputs": [],
   "source": [
    "from sklearn.ensemble import RandomForestClassifier"
   ]
  },
  {
   "cell_type": "code",
   "execution_count": 33,
   "id": "2a8b7589",
   "metadata": {},
   "outputs": [],
   "source": [
    "rf=RandomForestClassifier()"
   ]
  },
  {
   "cell_type": "code",
   "execution_count": 34,
   "id": "ff8efe47",
   "metadata": {},
   "outputs": [
    {
     "data": {
      "text/plain": [
       "RandomForestClassifier()"
      ]
     },
     "execution_count": 34,
     "metadata": {},
     "output_type": "execute_result"
    }
   ],
   "source": [
    "rf.fit(X_train,y_train)"
   ]
  },
  {
   "cell_type": "code",
   "execution_count": 35,
   "id": "70665a19",
   "metadata": {},
   "outputs": [],
   "source": [
    "y_pred_rf=rf.predict(X_test)"
   ]
  },
  {
   "cell_type": "code",
   "execution_count": 36,
   "id": "c49f5edc",
   "metadata": {},
   "outputs": [
    {
     "data": {
      "text/plain": [
       "0.9594594594594594"
      ]
     },
     "execution_count": 36,
     "metadata": {},
     "output_type": "execute_result"
    }
   ],
   "source": [
    "accuracy_rf=accuracy_score(y_test,y_pred_rf)\n",
    "accuracy_rf"
   ]
  },
  {
   "cell_type": "code",
   "execution_count": 37,
   "id": "0c76c5a9",
   "metadata": {},
   "outputs": [
    {
     "data": {
      "text/plain": [
       "0.9594594594594594"
      ]
     },
     "execution_count": 37,
     "metadata": {},
     "output_type": "execute_result"
    }
   ],
   "source": [
    "recall_score_rf=recall_score(y_test,y_pred_rf,average=\"weighted\")\n",
    "recall_score_rf"
   ]
  },
  {
   "cell_type": "code",
   "execution_count": 38,
   "id": "b4cd5a4b",
   "metadata": {},
   "outputs": [
    {
     "data": {
      "text/plain": [
       "0.9636786107374343"
      ]
     },
     "execution_count": 38,
     "metadata": {},
     "output_type": "execute_result"
    }
   ],
   "source": [
    "precision_score_rf=precision_score(y_test,y_pred_rf,average=\"weighted\")\n",
    "precision_score_rf"
   ]
  },
  {
   "cell_type": "code",
   "execution_count": 39,
   "id": "01724fb5",
   "metadata": {},
   "outputs": [
    {
     "data": {
      "text/plain": [
       "0.9583935721435721"
      ]
     },
     "execution_count": 39,
     "metadata": {},
     "output_type": "execute_result"
    }
   ],
   "source": [
    "f1_score_rf=f1_score(y_test,y_pred_rf,average=\"weighted\")\n",
    "f1_score_rf"
   ]
  },
  {
   "cell_type": "code",
   "execution_count": 40,
   "id": "c493d09a",
   "metadata": {},
   "outputs": [],
   "source": [
    "y_pred_train_rf=rf.predict(X_train)"
   ]
  },
  {
   "cell_type": "code",
   "execution_count": 41,
   "id": "f7f43f93",
   "metadata": {},
   "outputs": [
    {
     "data": {
      "text/plain": [
       "1.0"
      ]
     },
     "execution_count": 41,
     "metadata": {},
     "output_type": "execute_result"
    }
   ],
   "source": [
    "accuracy_train_rf=accuracy_score(y_train,y_pred_train_rf)\n",
    "accuracy_train_rf"
   ]
  },
  {
   "cell_type": "code",
   "execution_count": 42,
   "id": "aaa5a20f",
   "metadata": {},
   "outputs": [
    {
     "data": {
      "text/html": [
       "<div>\n",
       "<style scoped>\n",
       "    .dataframe tbody tr th:only-of-type {\n",
       "        vertical-align: middle;\n",
       "    }\n",
       "\n",
       "    .dataframe tbody tr th {\n",
       "        vertical-align: top;\n",
       "    }\n",
       "\n",
       "    .dataframe thead th {\n",
       "        text-align: right;\n",
       "    }\n",
       "</style>\n",
       "<table border=\"1\" class=\"dataframe\">\n",
       "  <thead>\n",
       "    <tr style=\"text-align: right;\">\n",
       "      <th>col_0</th>\n",
       "      <th>1</th>\n",
       "      <th>2</th>\n",
       "      <th>3</th>\n",
       "      <th>4</th>\n",
       "      <th>5</th>\n",
       "      <th>6</th>\n",
       "    </tr>\n",
       "    <tr>\n",
       "      <th>class</th>\n",
       "      <th></th>\n",
       "      <th></th>\n",
       "      <th></th>\n",
       "      <th></th>\n",
       "      <th></th>\n",
       "      <th></th>\n",
       "    </tr>\n",
       "  </thead>\n",
       "  <tbody>\n",
       "    <tr>\n",
       "      <th>1</th>\n",
       "      <td>15</td>\n",
       "      <td>0</td>\n",
       "      <td>0</td>\n",
       "      <td>0</td>\n",
       "      <td>0</td>\n",
       "      <td>0</td>\n",
       "    </tr>\n",
       "    <tr>\n",
       "      <th>2</th>\n",
       "      <td>0</td>\n",
       "      <td>13</td>\n",
       "      <td>0</td>\n",
       "      <td>1</td>\n",
       "      <td>0</td>\n",
       "      <td>0</td>\n",
       "    </tr>\n",
       "    <tr>\n",
       "      <th>3</th>\n",
       "      <td>0</td>\n",
       "      <td>0</td>\n",
       "      <td>16</td>\n",
       "      <td>0</td>\n",
       "      <td>0</td>\n",
       "      <td>0</td>\n",
       "    </tr>\n",
       "    <tr>\n",
       "      <th>4</th>\n",
       "      <td>0</td>\n",
       "      <td>0</td>\n",
       "      <td>0</td>\n",
       "      <td>12</td>\n",
       "      <td>0</td>\n",
       "      <td>0</td>\n",
       "    </tr>\n",
       "    <tr>\n",
       "      <th>5</th>\n",
       "      <td>0</td>\n",
       "      <td>0</td>\n",
       "      <td>0</td>\n",
       "      <td>0</td>\n",
       "      <td>9</td>\n",
       "      <td>0</td>\n",
       "    </tr>\n",
       "    <tr>\n",
       "      <th>6</th>\n",
       "      <td>2</td>\n",
       "      <td>0</td>\n",
       "      <td>0</td>\n",
       "      <td>0</td>\n",
       "      <td>0</td>\n",
       "      <td>6</td>\n",
       "    </tr>\n",
       "  </tbody>\n",
       "</table>\n",
       "</div>"
      ],
      "text/plain": [
       "col_0   1   2   3   4  5  6\n",
       "class                      \n",
       "1      15   0   0   0  0  0\n",
       "2       0  13   0   1  0  0\n",
       "3       0   0  16   0  0  0\n",
       "4       0   0   0  12  0  0\n",
       "5       0   0   0   0  9  0\n",
       "6       2   0   0   0  0  6"
      ]
     },
     "execution_count": 42,
     "metadata": {},
     "output_type": "execute_result"
    }
   ],
   "source": [
    "pd.crosstab(y_test,y_pred_rf)"
   ]
  },
  {
   "cell_type": "code",
   "execution_count": 43,
   "id": "983e14c3",
   "metadata": {},
   "outputs": [
    {
     "name": "stdout",
     "output_type": "stream",
     "text": [
      "              precision    recall  f1-score   support\n",
      "\n",
      "           1       0.88      1.00      0.94        15\n",
      "           2       1.00      0.93      0.96        14\n",
      "           3       1.00      1.00      1.00        16\n",
      "           4       0.92      1.00      0.96        12\n",
      "           5       1.00      1.00      1.00         9\n",
      "           6       1.00      0.75      0.86         8\n",
      "\n",
      "    accuracy                           0.96        74\n",
      "   macro avg       0.97      0.95      0.95        74\n",
      "weighted avg       0.96      0.96      0.96        74\n",
      "\n"
     ]
    }
   ],
   "source": [
    "reportrf=classification_report(y_test, y_pred_rf)# it will give precision,recall,f1 scores and accuracy  \n",
    "print(reportrf)"
   ]
  },
  {
   "cell_type": "markdown",
   "id": "34c03343",
   "metadata": {},
   "source": [
    "### Logistic Regression"
   ]
  },
  {
   "cell_type": "code",
   "execution_count": 44,
   "id": "e9c21322",
   "metadata": {},
   "outputs": [],
   "source": [
    "from sklearn.linear_model import LogisticRegression"
   ]
  },
  {
   "cell_type": "code",
   "execution_count": 45,
   "id": "64c07cd5",
   "metadata": {},
   "outputs": [],
   "source": [
    "lg=LogisticRegression(multi_class='ovr')"
   ]
  },
  {
   "cell_type": "code",
   "execution_count": 46,
   "id": "ae72e387",
   "metadata": {},
   "outputs": [
    {
     "data": {
      "text/plain": [
       "LogisticRegression(multi_class='ovr')"
      ]
     },
     "execution_count": 46,
     "metadata": {},
     "output_type": "execute_result"
    }
   ],
   "source": [
    "lg.fit(X_train,y_train)"
   ]
  },
  {
   "cell_type": "code",
   "execution_count": 47,
   "id": "6b5633e9",
   "metadata": {},
   "outputs": [],
   "source": [
    "y_pred_lg=lg.predict(X_test)"
   ]
  },
  {
   "cell_type": "code",
   "execution_count": 48,
   "id": "3d0d1926",
   "metadata": {},
   "outputs": [
    {
     "data": {
      "text/plain": [
       "0.9864864864864865"
      ]
     },
     "execution_count": 48,
     "metadata": {},
     "output_type": "execute_result"
    }
   ],
   "source": [
    "accuracy_lg=accuracy_score(y_test,y_pred_lg)\n",
    "accuracy_lg"
   ]
  },
  {
   "cell_type": "code",
   "execution_count": 49,
   "id": "0773e507",
   "metadata": {},
   "outputs": [
    {
     "data": {
      "text/plain": [
       "0.9864864864864865"
      ]
     },
     "execution_count": 49,
     "metadata": {},
     "output_type": "execute_result"
    }
   ],
   "source": [
    "recall_lg=recall_score(y_test,y_pred_lg,average='weighted') #checking recall \n",
    "recall_lg"
   ]
  },
  {
   "cell_type": "code",
   "execution_count": 50,
   "id": "affd67f7",
   "metadata": {},
   "outputs": [
    {
     "name": "stdout",
     "output_type": "stream",
     "text": [
      "              precision    recall  f1-score   support\n",
      "\n",
      "           1       1.00      1.00      1.00        15\n",
      "           2       1.00      0.93      0.96        14\n",
      "           3       1.00      1.00      1.00        16\n",
      "           4       0.92      1.00      0.96        12\n",
      "           5       1.00      1.00      1.00         9\n",
      "           6       1.00      1.00      1.00         8\n",
      "\n",
      "    accuracy                           0.99        74\n",
      "   macro avg       0.99      0.99      0.99        74\n",
      "weighted avg       0.99      0.99      0.99        74\n",
      "\n"
     ]
    }
   ],
   "source": [
    "reportlg=classification_report(y_test, y_pred_lg)# it will give precision,recall,f1 scores and accuracy  \n",
    "print(reportlg)"
   ]
  },
  {
   "cell_type": "code",
   "execution_count": 51,
   "id": "6f2f2dd0",
   "metadata": {},
   "outputs": [
    {
     "data": {
      "text/html": [
       "<div>\n",
       "<style scoped>\n",
       "    .dataframe tbody tr th:only-of-type {\n",
       "        vertical-align: middle;\n",
       "    }\n",
       "\n",
       "    .dataframe tbody tr th {\n",
       "        vertical-align: top;\n",
       "    }\n",
       "\n",
       "    .dataframe thead th {\n",
       "        text-align: right;\n",
       "    }\n",
       "</style>\n",
       "<table border=\"1\" class=\"dataframe\">\n",
       "  <thead>\n",
       "    <tr style=\"text-align: right;\">\n",
       "      <th>col_0</th>\n",
       "      <th>1</th>\n",
       "      <th>2</th>\n",
       "      <th>3</th>\n",
       "      <th>4</th>\n",
       "      <th>5</th>\n",
       "      <th>6</th>\n",
       "    </tr>\n",
       "    <tr>\n",
       "      <th>class</th>\n",
       "      <th></th>\n",
       "      <th></th>\n",
       "      <th></th>\n",
       "      <th></th>\n",
       "      <th></th>\n",
       "      <th></th>\n",
       "    </tr>\n",
       "  </thead>\n",
       "  <tbody>\n",
       "    <tr>\n",
       "      <th>1</th>\n",
       "      <td>15</td>\n",
       "      <td>0</td>\n",
       "      <td>0</td>\n",
       "      <td>0</td>\n",
       "      <td>0</td>\n",
       "      <td>0</td>\n",
       "    </tr>\n",
       "    <tr>\n",
       "      <th>2</th>\n",
       "      <td>0</td>\n",
       "      <td>13</td>\n",
       "      <td>0</td>\n",
       "      <td>1</td>\n",
       "      <td>0</td>\n",
       "      <td>0</td>\n",
       "    </tr>\n",
       "    <tr>\n",
       "      <th>3</th>\n",
       "      <td>0</td>\n",
       "      <td>0</td>\n",
       "      <td>16</td>\n",
       "      <td>0</td>\n",
       "      <td>0</td>\n",
       "      <td>0</td>\n",
       "    </tr>\n",
       "    <tr>\n",
       "      <th>4</th>\n",
       "      <td>0</td>\n",
       "      <td>0</td>\n",
       "      <td>0</td>\n",
       "      <td>12</td>\n",
       "      <td>0</td>\n",
       "      <td>0</td>\n",
       "    </tr>\n",
       "    <tr>\n",
       "      <th>5</th>\n",
       "      <td>0</td>\n",
       "      <td>0</td>\n",
       "      <td>0</td>\n",
       "      <td>0</td>\n",
       "      <td>9</td>\n",
       "      <td>0</td>\n",
       "    </tr>\n",
       "    <tr>\n",
       "      <th>6</th>\n",
       "      <td>0</td>\n",
       "      <td>0</td>\n",
       "      <td>0</td>\n",
       "      <td>0</td>\n",
       "      <td>0</td>\n",
       "      <td>8</td>\n",
       "    </tr>\n",
       "  </tbody>\n",
       "</table>\n",
       "</div>"
      ],
      "text/plain": [
       "col_0   1   2   3   4  5  6\n",
       "class                      \n",
       "1      15   0   0   0  0  0\n",
       "2       0  13   0   1  0  0\n",
       "3       0   0  16   0  0  0\n",
       "4       0   0   0  12  0  0\n",
       "5       0   0   0   0  9  0\n",
       "6       0   0   0   0  0  8"
      ]
     },
     "execution_count": 51,
     "metadata": {},
     "output_type": "execute_result"
    }
   ],
   "source": [
    "pd.crosstab(y_test,y_pred_lg)"
   ]
  },
  {
   "cell_type": "code",
   "execution_count": 52,
   "id": "f5e5427c",
   "metadata": {},
   "outputs": [],
   "source": [
    "#from xgboost import XGBClassifier"
   ]
  },
  {
   "cell_type": "code",
   "execution_count": 53,
   "id": "1840f336",
   "metadata": {},
   "outputs": [],
   "source": [
    "#xgb=XGBClassifier(objective='multi:softprob')"
   ]
  },
  {
   "cell_type": "code",
   "execution_count": 54,
   "id": "bb1b0c52",
   "metadata": {},
   "outputs": [],
   "source": [
    "# You may need to use MultiLabelBinarizer to encode your variables from arrays [[x, y, z]] to a multilabel \n",
    "# format before training.\n",
    "#mlb = MultiLabelBinarizer()\n",
    "#y = mlb.fit_transform(y)"
   ]
  },
  {
   "cell_type": "markdown",
   "id": "df940f2b",
   "metadata": {},
   "source": [
    "### XGBoost"
   ]
  },
  {
   "cell_type": "code",
   "execution_count": 55,
   "id": "d7b3139e",
   "metadata": {},
   "outputs": [],
   "source": [
    "from sklearn.multiclass import OneVsRestClassifier\n",
    "from xgboost import XGBClassifier\n",
    "from sklearn.preprocessing import MultiLabelBinarizer\n",
    "\n",
    "xgb = OneVsRestClassifier(XGBClassifier(n_jobs=-1, max_depth=7))"
   ]
  },
  {
   "cell_type": "code",
   "execution_count": 56,
   "id": "f135c465",
   "metadata": {},
   "outputs": [
    {
     "data": {
      "text/plain": [
       "OneVsRestClassifier(estimator=XGBClassifier(base_score=None, booster=None,\n",
       "                                            callbacks=None,\n",
       "                                            colsample_bylevel=None,\n",
       "                                            colsample_bynode=None,\n",
       "                                            colsample_bytree=None,\n",
       "                                            early_stopping_rounds=None,\n",
       "                                            enable_categorical=False,\n",
       "                                            eval_metric=None, gamma=None,\n",
       "                                            gpu_id=None, grow_policy=None,\n",
       "                                            importance_type=None,\n",
       "                                            interaction_constraints=None,\n",
       "                                            learning_rate=None, max_bin=None,\n",
       "                                            max_cat_to_onehot=None,\n",
       "                                            max_delta_step=None, max_depth=7,\n",
       "                                            max_leaves=None,\n",
       "                                            min_child_weight=None, missing=nan,\n",
       "                                            monotone_constraints=None,\n",
       "                                            n_estimators=100, n_jobs=-1,\n",
       "                                            num_parallel_tree=None,\n",
       "                                            predictor=None, random_state=None,\n",
       "                                            reg_alpha=None, reg_lambda=None, ...))"
      ]
     },
     "execution_count": 56,
     "metadata": {},
     "output_type": "execute_result"
    }
   ],
   "source": [
    "xgb.fit(X_train,y_train)"
   ]
  },
  {
   "cell_type": "code",
   "execution_count": 57,
   "id": "1e0025bf",
   "metadata": {},
   "outputs": [],
   "source": [
    "pred_xgb=xgb.predict(X_test)"
   ]
  },
  {
   "cell_type": "code",
   "execution_count": 58,
   "id": "19e56553",
   "metadata": {},
   "outputs": [],
   "source": [
    "accuracy_xgb=recall_score(y_test,pred_xgb,average='weighted')"
   ]
  },
  {
   "cell_type": "code",
   "execution_count": 59,
   "id": "a1cd9238",
   "metadata": {},
   "outputs": [
    {
     "data": {
      "text/plain": [
       "0.9864864864864865"
      ]
     },
     "execution_count": 59,
     "metadata": {},
     "output_type": "execute_result"
    }
   ],
   "source": [
    "accuracy_xgb"
   ]
  },
  {
   "cell_type": "code",
   "execution_count": 60,
   "id": "8d77cc03",
   "metadata": {},
   "outputs": [
    {
     "data": {
      "text/plain": [
       "0.9864864864864865"
      ]
     },
     "execution_count": 60,
     "metadata": {},
     "output_type": "execute_result"
    }
   ],
   "source": [
    "accuracy_xgb1=accuracy_score(y_test,pred_xgb)\n",
    "accuracy_xgb1"
   ]
  },
  {
   "cell_type": "code",
   "execution_count": 61,
   "id": "37a0ea1d",
   "metadata": {},
   "outputs": [],
   "source": [
    "pred_xgb_train=xgb.predict(X_train)"
   ]
  },
  {
   "cell_type": "code",
   "execution_count": 62,
   "id": "e2b95922",
   "metadata": {},
   "outputs": [
    {
     "data": {
      "text/plain": [
       "1.0"
      ]
     },
     "execution_count": 62,
     "metadata": {},
     "output_type": "execute_result"
    }
   ],
   "source": [
    "accuracy_xgb1=accuracy_score(y_train,pred_xgb_train)\n",
    "accuracy_xgb1"
   ]
  },
  {
   "cell_type": "code",
   "execution_count": 63,
   "id": "4f1cc92a",
   "metadata": {},
   "outputs": [
    {
     "name": "stdout",
     "output_type": "stream",
     "text": [
      "              precision    recall  f1-score   support\n",
      "\n",
      "           1       1.00      1.00      1.00        15\n",
      "           2       1.00      0.93      0.96        14\n",
      "           3       1.00      1.00      1.00        16\n",
      "           4       0.92      1.00      0.96        12\n",
      "           5       1.00      1.00      1.00         9\n",
      "           6       1.00      1.00      1.00         8\n",
      "\n",
      "    accuracy                           0.99        74\n",
      "   macro avg       0.99      0.99      0.99        74\n",
      "weighted avg       0.99      0.99      0.99        74\n",
      "\n"
     ]
    }
   ],
   "source": [
    "reportxgb=classification_report(y_test, pred_xgb)# it will give precision,recall,f1 scores and accuracy  \n",
    "print(reportxgb)"
   ]
  },
  {
   "cell_type": "markdown",
   "id": "a57d33b7",
   "metadata": {},
   "source": [
    "### SVM"
   ]
  },
  {
   "cell_type": "code",
   "execution_count": 64,
   "id": "5db5385e",
   "metadata": {},
   "outputs": [],
   "source": [
    "from sklearn.svm import SVC"
   ]
  },
  {
   "cell_type": "code",
   "execution_count": 65,
   "id": "7e30c8f4",
   "metadata": {},
   "outputs": [],
   "source": [
    "svc = SVC()"
   ]
  },
  {
   "cell_type": "code",
   "execution_count": 66,
   "id": "d74e31c6",
   "metadata": {},
   "outputs": [
    {
     "data": {
      "text/plain": [
       "SVC()"
      ]
     },
     "execution_count": 66,
     "metadata": {},
     "output_type": "execute_result"
    }
   ],
   "source": [
    "svc.fit(X_train,y_train)"
   ]
  },
  {
   "cell_type": "code",
   "execution_count": 67,
   "id": "55c6af28",
   "metadata": {},
   "outputs": [],
   "source": [
    "pred_svc=svc.predict(X_test)"
   ]
  },
  {
   "cell_type": "code",
   "execution_count": 68,
   "id": "50308fe6",
   "metadata": {},
   "outputs": [
    {
     "data": {
      "text/plain": [
       "0.9864864864864865"
      ]
     },
     "execution_count": 68,
     "metadata": {},
     "output_type": "execute_result"
    }
   ],
   "source": [
    "accuracy_svc=accuracy_score(y_test,pred_svc)\n",
    "accuracy_svc"
   ]
  },
  {
   "cell_type": "code",
   "execution_count": 69,
   "id": "0ee83675",
   "metadata": {},
   "outputs": [
    {
     "name": "stdout",
     "output_type": "stream",
     "text": [
      "              precision    recall  f1-score   support\n",
      "\n",
      "           1       1.00      1.00      1.00        15\n",
      "           2       1.00      0.93      0.96        14\n",
      "           3       1.00      1.00      1.00        16\n",
      "           4       0.92      1.00      0.96        12\n",
      "           5       1.00      1.00      1.00         9\n",
      "           6       1.00      1.00      1.00         8\n",
      "\n",
      "    accuracy                           0.99        74\n",
      "   macro avg       0.99      0.99      0.99        74\n",
      "weighted avg       0.99      0.99      0.99        74\n",
      "\n"
     ]
    }
   ],
   "source": [
    "reportsvc=classification_report(y_test, pred_svc)# it will give precision,recall,f1 scores and accuracy  \n",
    "print(reportsvc)"
   ]
  },
  {
   "cell_type": "markdown",
   "id": "a812eab0",
   "metadata": {},
   "source": [
    "### KNN"
   ]
  },
  {
   "cell_type": "code",
   "execution_count": 71,
   "id": "108b3c94",
   "metadata": {},
   "outputs": [],
   "source": [
    "from sklearn.neighbors import KNeighborsClassifier"
   ]
  },
  {
   "cell_type": "code",
   "execution_count": 72,
   "id": "6981dfd0",
   "metadata": {},
   "outputs": [],
   "source": [
    "knn=KNeighborsClassifier()"
   ]
  },
  {
   "cell_type": "code",
   "execution_count": 73,
   "id": "d332f9ac",
   "metadata": {},
   "outputs": [],
   "source": [
    "error_rate=[]\n",
    "for i in range(1,20):\n",
    "    knn = KNeighborsClassifier(n_neighbors=i)\n",
    "    knn.fit(X_train,y_train)\n",
    "    pred = knn.predict(X_test)\n",
    "    error_rate.append(np.mean(pred != y_test))"
   ]
  },
  {
   "cell_type": "code",
   "execution_count": 74,
   "id": "7f8c34d0",
   "metadata": {},
   "outputs": [
    {
     "data": {
      "text/plain": [
       "Text(0, 0.5, 'Error Rate')"
      ]
     },
     "execution_count": 74,
     "metadata": {},
     "output_type": "execute_result"
    },
    {
     "data": {
      "image/png": "[encoded data removed]",
      "text/plain": [
       "<Figure size 1440x720 with 1 Axes>"
      ]
     },
     "metadata": {
      "needs_background": "light"
     },
     "output_type": "display_data"
    }
   ],
   "source": [
    "plt.figure(figsize=(20,10))\n",
    "plt.plot(range(1,20),error_rate,color='blue', linestyle='dashed', \n",
    "         marker='o',markerfacecolor='red', markersize=10)\n",
    "plt.title('Error Rate vs. K Value')\n",
    "plt.xlabel('K')\n",
    "plt.ylabel('Error Rate')"
   ]
  },
  {
   "cell_type": "code",
   "execution_count": 105,
   "id": "ec1b9e39",
   "metadata": {},
   "outputs": [
    {
     "data": {
      "text/plain": [
       "KNeighborsClassifier(n_neighbors=6)"
      ]
     },
     "execution_count": 105,
     "metadata": {},
     "output_type": "execute_result"
    }
   ],
   "source": [
    "knn_test = KNeighborsClassifier(n_neighbors=6)\n",
    "knn_test.fit(X_train,y_train)"
   ]
  },
  {
   "cell_type": "code",
   "execution_count": 106,
   "id": "713a618b",
   "metadata": {},
   "outputs": [],
   "source": [
    "pred_knn = knn_test.predict(X_test)"
   ]
  },
  {
   "cell_type": "code",
   "execution_count": 107,
   "id": "2a565b82",
   "metadata": {},
   "outputs": [
    {
     "data": {
      "text/plain": [
       "0.9864864864864865"
      ]
     },
     "execution_count": 107,
     "metadata": {},
     "output_type": "execute_result"
    }
   ],
   "source": [
    "accuracy_knn=accuracy_score(y_test,pred_knn)\n",
    "accuracy_knn"
   ]
  },
  {
   "cell_type": "code",
   "execution_count": 108,
   "id": "7a2744b8",
   "metadata": {},
   "outputs": [
    {
     "name": "stdout",
     "output_type": "stream",
     "text": [
      "              precision    recall  f1-score   support\n",
      "\n",
      "           1       1.00      1.00      1.00        15\n",
      "           2       1.00      0.93      0.96        14\n",
      "           3       1.00      1.00      1.00        16\n",
      "           4       0.92      1.00      0.96        12\n",
      "           5       1.00      1.00      1.00         9\n",
      "           6       1.00      1.00      1.00         8\n",
      "\n",
      "    accuracy                           0.99        74\n",
      "   macro avg       0.99      0.99      0.99        74\n",
      "weighted avg       0.99      0.99      0.99        74\n",
      "\n"
     ]
    }
   ],
   "source": [
    "reportknn=classification_report(y_test, pred_knn)# it will give precision,recall,f1 scores and accuracy  \n",
    "print(reportknn)"
   ]
  },
  {
   "cell_type": "markdown",
   "id": "927cc064",
   "metadata": {},
   "source": [
    "#### We can see XGboost, SVM and Logistic Regression gave same result of 98.64% compare to Random Forest which gave accuracy of 95.94% and in KNN got accuracy of 98.64% when k = 6."
   ]
  },
  {
   "cell_type": "markdown",
   "id": "2b88319e",
   "metadata": {},
   "source": [
    "#### Pickling\n"
   ]
  },
  {
   "cell_type": "code",
   "execution_count": 70,
   "id": "cb4f7730",
   "metadata": {},
   "outputs": [],
   "source": [
    "import pickle\n",
    "# open a file, where you ant to store the data\n",
    "file_xgb = open('SkinDisorder_XGB_multiclassification.pkl', 'wb')\n",
    "\n",
    "# dump information to that file\n",
    "pickle.dump(xgb, file_xgb)"
   ]
  }
 ],
 "metadata": {
  "kernelspec": {
   "display_name": "Python 3 (ipykernel)",
   "language": "python",
   "name": "python3"
  },
  "language_info": {
   "codemirror_mode": {
    "name": "ipython",
    "version": 3
   },
   "file_extension": ".py",
   "mimetype": "text/x-python",
   "name": "python",
   "nbconvert_exporter": "python",
   "pygments_lexer": "ipython3",
   "version": "3.9.7"
  }
 },
 "nbformat": 4,
 "nbformat_minor": 5
}
